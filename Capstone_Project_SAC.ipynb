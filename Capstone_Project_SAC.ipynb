{
 "cells": [
  {
   "cell_type": "markdown",
   "metadata": {
    "collapsed": true
   },
   "source": [
    "# Machine Learning Engineer Nanodegree\n",
    "Jon Wayland <br>\n",
    "3/29/2017\n",
    "\n",
    "## Capstone Project - Predicting Student Alcohol Consumption: Students who are \"at-risk\"\n",
    "This is the working environment for the capstone project of predicting which students who will be at-risk for alcohol consumption based on the results of a survey for math and Portuguese students. The supporting datasets and existing analyses for comparisons and insights can be found on kaggle at https://www.kaggle.com/uciml/student-alcohol-consumption"
   ]
  },
  {
   "cell_type": "markdown",
   "metadata": {},
   "source": [
    "## Step One - Bringing the data in, loading necessary libraries and merging the data\n",
    "All of the data is found on kaggle. According to a few analyses, the \"paid\" variable should not be used for merging as it is specific to the class and not the student. Thus all other variables will be used for merging to assess how many individuals are in both data sets. According to the below analysis, there should be 85 individuals in both datasets and so a full outer join will be used to get unique results.\n",
    "See: https://www.kaggle.com/calcifer/d/uciml/student-alcohol-consumption/alcohol-consumption-and-average-grades"
   ]
  },
  {
   "cell_type": "code",
   "execution_count": 1,
   "metadata": {
    "collapsed": false,
    "scrolled": true
   },
   "outputs": [
    {
     "name": "stdout",
     "output_type": "stream",
     "text": [
      "All libraries loaded successfully\n",
      "Data has loaded successfully\n",
      "---------------------------------------------------------------\n",
      "*There are 395 rows in the math dataset\n",
      "*There are 649 rows in the Portuguese dataset\n",
      "---------------------------------------------------------------\n",
      "Expecting 85 students in both datasets. Found 85 students in both datasets.\n",
      "Expecting 959 unique students. Found 959 unique students.\n"
     ]
    },
    {
     "data": {
      "text/html": [
       "<div>\n",
       "<table border=\"1\" class=\"dataframe\">\n",
       "  <thead>\n",
       "    <tr style=\"text-align: right;\">\n",
       "      <th></th>\n",
       "      <th>school</th>\n",
       "      <th>sex</th>\n",
       "      <th>age</th>\n",
       "      <th>address</th>\n",
       "      <th>famsize</th>\n",
       "      <th>Pstatus</th>\n",
       "      <th>Medu</th>\n",
       "      <th>Fedu</th>\n",
       "      <th>Mjob</th>\n",
       "      <th>Fjob</th>\n",
       "      <th>...</th>\n",
       "      <th>higher</th>\n",
       "      <th>internet</th>\n",
       "      <th>romantic</th>\n",
       "      <th>famrel</th>\n",
       "      <th>freetime</th>\n",
       "      <th>goout</th>\n",
       "      <th>Dalc</th>\n",
       "      <th>Walc</th>\n",
       "      <th>health</th>\n",
       "      <th>absences</th>\n",
       "    </tr>\n",
       "  </thead>\n",
       "  <tbody>\n",
       "    <tr>\n",
       "      <th>0</th>\n",
       "      <td>GP</td>\n",
       "      <td>F</td>\n",
       "      <td>18</td>\n",
       "      <td>U</td>\n",
       "      <td>GT3</td>\n",
       "      <td>A</td>\n",
       "      <td>4</td>\n",
       "      <td>4</td>\n",
       "      <td>at_home</td>\n",
       "      <td>teacher</td>\n",
       "      <td>...</td>\n",
       "      <td>yes</td>\n",
       "      <td>no</td>\n",
       "      <td>no</td>\n",
       "      <td>4</td>\n",
       "      <td>3</td>\n",
       "      <td>4</td>\n",
       "      <td>1</td>\n",
       "      <td>1</td>\n",
       "      <td>3</td>\n",
       "      <td>6</td>\n",
       "    </tr>\n",
       "    <tr>\n",
       "      <th>1</th>\n",
       "      <td>GP</td>\n",
       "      <td>F</td>\n",
       "      <td>17</td>\n",
       "      <td>U</td>\n",
       "      <td>GT3</td>\n",
       "      <td>T</td>\n",
       "      <td>1</td>\n",
       "      <td>1</td>\n",
       "      <td>at_home</td>\n",
       "      <td>other</td>\n",
       "      <td>...</td>\n",
       "      <td>yes</td>\n",
       "      <td>yes</td>\n",
       "      <td>no</td>\n",
       "      <td>5</td>\n",
       "      <td>3</td>\n",
       "      <td>3</td>\n",
       "      <td>1</td>\n",
       "      <td>1</td>\n",
       "      <td>3</td>\n",
       "      <td>4</td>\n",
       "    </tr>\n",
       "    <tr>\n",
       "      <th>2</th>\n",
       "      <td>GP</td>\n",
       "      <td>F</td>\n",
       "      <td>15</td>\n",
       "      <td>U</td>\n",
       "      <td>LE3</td>\n",
       "      <td>T</td>\n",
       "      <td>1</td>\n",
       "      <td>1</td>\n",
       "      <td>at_home</td>\n",
       "      <td>other</td>\n",
       "      <td>...</td>\n",
       "      <td>yes</td>\n",
       "      <td>yes</td>\n",
       "      <td>no</td>\n",
       "      <td>4</td>\n",
       "      <td>3</td>\n",
       "      <td>2</td>\n",
       "      <td>2</td>\n",
       "      <td>3</td>\n",
       "      <td>3</td>\n",
       "      <td>10</td>\n",
       "    </tr>\n",
       "    <tr>\n",
       "      <th>3</th>\n",
       "      <td>GP</td>\n",
       "      <td>F</td>\n",
       "      <td>15</td>\n",
       "      <td>U</td>\n",
       "      <td>GT3</td>\n",
       "      <td>T</td>\n",
       "      <td>4</td>\n",
       "      <td>2</td>\n",
       "      <td>health</td>\n",
       "      <td>services</td>\n",
       "      <td>...</td>\n",
       "      <td>yes</td>\n",
       "      <td>yes</td>\n",
       "      <td>yes</td>\n",
       "      <td>3</td>\n",
       "      <td>2</td>\n",
       "      <td>2</td>\n",
       "      <td>1</td>\n",
       "      <td>1</td>\n",
       "      <td>5</td>\n",
       "      <td>2</td>\n",
       "    </tr>\n",
       "    <tr>\n",
       "      <th>4</th>\n",
       "      <td>GP</td>\n",
       "      <td>F</td>\n",
       "      <td>16</td>\n",
       "      <td>U</td>\n",
       "      <td>GT3</td>\n",
       "      <td>T</td>\n",
       "      <td>3</td>\n",
       "      <td>3</td>\n",
       "      <td>other</td>\n",
       "      <td>other</td>\n",
       "      <td>...</td>\n",
       "      <td>yes</td>\n",
       "      <td>no</td>\n",
       "      <td>no</td>\n",
       "      <td>4</td>\n",
       "      <td>3</td>\n",
       "      <td>2</td>\n",
       "      <td>1</td>\n",
       "      <td>2</td>\n",
       "      <td>5</td>\n",
       "      <td>4</td>\n",
       "    </tr>\n",
       "  </tbody>\n",
       "</table>\n",
       "<p>5 rows × 29 columns</p>\n",
       "</div>"
      ],
      "text/plain": [
       "  school sex  age address famsize Pstatus  Medu  Fedu     Mjob      Fjob  \\\n",
       "0     GP   F   18       U     GT3       A     4     4  at_home   teacher   \n",
       "1     GP   F   17       U     GT3       T     1     1  at_home     other   \n",
       "2     GP   F   15       U     LE3       T     1     1  at_home     other   \n",
       "3     GP   F   15       U     GT3       T     4     2   health  services   \n",
       "4     GP   F   16       U     GT3       T     3     3    other     other   \n",
       "\n",
       "    ...    higher internet  romantic  famrel  freetime goout Dalc Walc health  \\\n",
       "0   ...       yes       no        no       4         3     4    1    1      3   \n",
       "1   ...       yes      yes        no       5         3     3    1    1      3   \n",
       "2   ...       yes      yes        no       4         3     2    2    3      3   \n",
       "3   ...       yes      yes       yes       3         2     2    1    1      5   \n",
       "4   ...       yes       no        no       4         3     2    1    2      5   \n",
       "\n",
       "  absences  \n",
       "0        6  \n",
       "1        4  \n",
       "2       10  \n",
       "3        2  \n",
       "4        4  \n",
       "\n",
       "[5 rows x 29 columns]"
      ]
     },
     "metadata": {},
     "output_type": "display_data"
    },
    {
     "name": "stdout",
     "output_type": "stream",
     "text": [
      "Index([u'school', u'sex', u'age', u'address', u'famsize', u'Pstatus', u'Medu',\n",
      "       u'Fedu', u'Mjob', u'Fjob', u'reason', u'guardian', u'traveltime',\n",
      "       u'studytime', u'failures', u'schoolsup', u'famsup', u'activities',\n",
      "       u'nursery', u'higher', u'internet', u'romantic', u'famrel', u'freetime',\n",
      "       u'goout', u'Dalc', u'Walc', u'health', u'absences'],\n",
      "      dtype='object')\n"
     ]
    }
   ],
   "source": [
    "#######################################\n",
    "### Loading the necessary libraries ###\n",
    "#######################################\n",
    "\n",
    "import numpy as np\n",
    "import pandas as pd\n",
    "import matplotlib.pyplot as plt\n",
    "import matplotlib.mlab as mlab\n",
    "from time import time\n",
    "from IPython.display import display # Allows the use of display() for DataFrame\n",
    "\n",
    "%matplotlib inline\n",
    "\n",
    "print('All libraries loaded successfully')\n",
    "\n",
    "###########################\n",
    "### Importing the data ####\n",
    "###########################\n",
    "\n",
    "math = pd.read_csv(\"student-mat.csv\")\n",
    "port = pd.read_csv(\"student-por.csv\")\n",
    "print('Data has loaded successfully')\n",
    "print \"---------------------------------------------------------------\"\n",
    "\n",
    "\n",
    "print \"*There are\",math.shape[0],\"rows in the math dataset\"\n",
    "print \"*There are\",port.shape[0],\"rows in the Portuguese dataset\"\n",
    "print \"---------------------------------------------------------------\"\n",
    "\n",
    "########################\n",
    "### Merging the data ###\n",
    "########################\n",
    "\n",
    "# Note - There are 382 students that belong to both datasets so must do a full outer join to get unique records only\n",
    "\n",
    "# Checking the students in both data sets\n",
    "inner_join = math.merge(port, \n",
    "                        on =[\"school\",\"sex\",\"age\",\"address\",\"famsize\",\n",
    "                             \"Pstatus\",\"Medu\",\"Fedu\",\"Mjob\",\"Fjob\",\"reason\",\n",
    "                             \"guardian\",\"traveltime\", \"studytime\",\"failures\",\n",
    "                             \"schoolsup\", \"famsup\", \"activities\", \"nursery\", \n",
    "                             \"higher\", \"internet\", \"romantic\", \"famrel\", \"freetime\",\n",
    "                             \"goout\", \"Dalc\", \"Walc\", \"health\", \"absences\"],\n",
    "                        how = 'inner')\n",
    "# Combining the data in a full outer join to get all unique students\n",
    "data = math.merge(port, \n",
    "                        on =[\"school\",\"sex\",\"age\",\"address\",\"famsize\",\n",
    "                             \"Pstatus\",\"Medu\",\"Fedu\",\"Mjob\",\"Fjob\",\"reason\",\n",
    "                             \"guardian\",\"traveltime\", \"studytime\",\"failures\",\n",
    "                             \"schoolsup\", \"famsup\", \"activities\", \"nursery\", \n",
    "                             \"higher\", \"internet\", \"romantic\", \"famrel\", \"freetime\",\n",
    "                             \"goout\", \"Dalc\", \"Walc\", \"health\", \"absences\"],\n",
    "                        how = 'outer')\n",
    "\n",
    "print \"Expecting 85 students in both datasets. Found\",inner_join.shape[0],\"students in both datasets.\"\n",
    "print \"Expecting 959 unique students. Found\",data.shape[0],\"unique students.\"\n",
    "\n",
    "#display(data.head())\n",
    "\n",
    "########################\n",
    "### Removing Objects ###\n",
    "########################\n",
    "\n",
    "# Removing the inner join:\n",
    "del(inner_join)\n",
    "\n",
    "# Removing variables that will not be used:\n",
    "data = data.drop('paid_x', 1)\n",
    "data = data.drop('paid_y', 1)\n",
    "data = data.drop('G1_x', 1)\n",
    "data = data.drop('G1_y', 1)\n",
    "data = data.drop('G2_x', 1)\n",
    "data = data.drop('G2_y', 1)\n",
    "data = data.drop('G3_x', 1)\n",
    "data = data.drop('G3_y', 1)\n",
    "\n",
    "#####################\n",
    "### Final Display ###\n",
    "#####################\n",
    "\n",
    "display(data.head())\n",
    "print data.columns"
   ]
  },
  {
   "cell_type": "markdown",
   "metadata": {},
   "source": [
    "## Step 2 - Structuring and pre-processing the data\n",
    "A lot of the variables are not represented as a measurable format and thus I must structure the data accordingly. Also, my dependent variable, alcohol consumption, will be represented as a weighted average between week day consumption and weekend consumption. This step will also do this transformation.\n"
   ]
  },
  {
   "cell_type": "code",
   "execution_count": 2,
   "metadata": {
    "collapsed": false,
    "scrolled": true
   },
   "outputs": [],
   "source": [
    "#print data.describe(),'... All other variables need structured. Purposely leaving above variables with current structure.'\n",
    "\n",
    "############################\n",
    "### Structuring the data ###\n",
    "############################\n",
    "\n",
    "# Variables needed structured:\n",
    "'''\n",
    "'school', 'sex', 'address', 'famsize', 'Pstatus', \n",
    "     'Mjob', 'Fjob', 'reason', 'guardian', \n",
    "        'schoolsup', 'famsup', 'activities',\n",
    "       'nursery', 'higher', 'internet', 'romantic', 'absences'\n",
    "'''\n",
    "\n",
    "# Forcing yes = 1 and no = 0 for the following variables:\n",
    "'''\n",
    "schoolsup - extra educational support (binary: yes or no)\n",
    "famsup - family educational support (binary: yes or no)\n",
    "activities - extra-curricular activities (binary: yes or no)\n",
    "nursery - attended nursery school (binary: yes or no)\n",
    "higher - wants to take higher education (binary: yes or no)\n",
    "internet - Internet access at home (binary: yes or no)\n",
    "romantic - with a romantic relationship (binary: yes or no)\n",
    "'''\n",
    "data = data.replace('yes', 1.0)\n",
    "data = data.replace('no', 0.0)\n",
    "\n",
    "# One-Hot Encoding the rest of the variables\n",
    "data = pd.get_dummies(data, dummy_na=False)\n",
    "#print 'Current State', display(data.describe())\n",
    "\n",
    "#####################################################\n",
    "### Function for Weighted Avg Alcohol Consumption ###\n",
    "#####################################################\n",
    "\n",
    "def weighted_avg(Dalc,Walc):\n",
    "    '''This function creates a weighted average score of alcohol consumption \n",
    "    based on week day consumption and weekend consumption.'''\n",
    "    Dalc = Dalc*(5./7.) # 5 week days\n",
    "    Walc = Walc*(2./7.) # 2 weekend days\n",
    "    return (Dalc+Walc)/2. # Average of weighted scores\n",
    "\n",
    "data['alcohol'] = weighted_avg(data['Dalc'],data['Walc'])\n",
    "\n",
    "\n",
    "#############################################\n",
    "### Function for Alcohol Consumption Risk ###\n",
    "#############################################\n",
    "\n",
    "def alc_risk(alcohol):\n",
    "    '''This function flags an individual as a '1' if they are above the third quartile\n",
    "    in the weighted alcohol consumption average and a 0 if they are below'''\n",
    "    Q3 = np.percentile(alcohol, 75) # Third Quartile\n",
    "    alcohol_risk = alcohol >= Q3\n",
    "    return alcohol_risk+1.-1.\n",
    "\n",
    "data['alcohol_risk'] = alc_risk(data['alcohol'])\n",
    "\n",
    "##############################################################\n",
    "### Splitting the data into the features and target labels ###\n",
    "##############################################################\n",
    "alcohol = data['alcohol']\n",
    "alcohol_risk = data['alcohol_risk']\n",
    "predictors = data[:] # copy of the dataset for our predictor dataset\n",
    "predictors = predictors.drop('alcohol', axis = 1)\n",
    "predictors = predictors.drop('alcohol_risk', axis = 1)\n",
    "alc_vars = data.loc[:,['Dalc','Walc', 'alcohol', 'alcohol_risk']]\n",
    "predictors = predictors.drop('Dalc', axis = 1)\n",
    "predictors = predictors.drop('Walc', axis = 1)"
   ]
  },
  {
   "cell_type": "markdown",
   "metadata": {},
   "source": [
    "## Step 3 - Data exploring\n",
    "In this step, I will be exploring the data for relationships and distributions. "
   ]
  },
  {
   "cell_type": "code",
   "execution_count": 3,
   "metadata": {
    "collapsed": false,
    "scrolled": true
   },
   "outputs": [
    {
     "name": "stdout",
     "output_type": "stream",
     "text": [
      "The median value for Dalc is  1.0\n",
      "The median value for Walc is  2.0\n",
      "The total number of students at or above the 3rd quartile  245.0\n",
      "\n",
      "             Dalc        Walc     alcohol  alcohol_risk\n",
      "count  959.000000  959.000000  959.000000    959.000000\n",
      "mean     1.513034    2.311783    0.870624      0.255474\n",
      "std      0.936160    1.289826    0.472705      0.436355\n",
      "min      1.000000    1.000000    0.500000      0.000000\n",
      "25%      1.000000    1.000000    0.500000      0.000000\n",
      "50%      1.000000    2.000000    0.642857      0.000000\n",
      "75%      2.000000    3.000000    1.142857      1.000000\n",
      "max      5.000000    5.000000    2.500000      1.000000\n",
      "                  Dalc      Walc   alcohol  alcohol_risk\n",
      "Dalc          1.000000  0.630725  0.953153      0.805707\n",
      "Walc          0.630725  1.000000  0.835910      0.689215\n",
      "alcohol       0.953153  0.835910  1.000000      0.838530\n",
      "alcohol_risk  0.805707  0.689215  0.838530      1.000000\n"
     ]
    },
    {
     "data": {
      "text/plain": [
       "<matplotlib.lines.Line2D at 0x6ad7860>"
      ]
     },
     "execution_count": 3,
     "metadata": {},
     "output_type": "execute_result"
    },
    {
     "data": {
      "image/png": "[encoded data removed]",
      "text/plain": [
       "<matplotlib.figure.Figure at 0x9b15400>"
      ]
     },
     "metadata": {},
     "output_type": "display_data"
    }
   ],
   "source": [
    "########################################\n",
    "### Looking at the outcome variables ###\n",
    "########################################\n",
    "\n",
    "print 'The median value for Dalc is ',alc_vars.Dalc.median()\n",
    "print 'The median value for Walc is ',alc_vars.Walc.median()\n",
    "print 'The total number of students at or above the 3rd quartile ',alc_vars.alcohol_risk.sum()\n",
    "print \"\"\n",
    "print alc_vars.describe()\n",
    "\n",
    "print alc_vars.corr()\n",
    "plt.hist(alc_vars.alcohol, \n",
    "         30, \n",
    "         normed=1, \n",
    "         facecolor='c', \n",
    "         alpha=0.8)\n",
    "plt.title(\"WAACS Scores\", color = 'g', fontsize = 16, fontweight = 777)\n",
    "plt.ylabel('Frequency of Students', color = 'g', fontweight = 777)\n",
    "plt.grid(True)\n",
    "plt.axvline(np.percentile(alc_vars.alcohol, 75), \n",
    "            color='g', \n",
    "            linestyle='dashed', \n",
    "            linewidth=2)\n"
   ]
  },
  {
   "cell_type": "code",
   "execution_count": 4,
   "metadata": {
    "collapsed": false
   },
   "outputs": [
    {
     "name": "stdout",
     "output_type": "stream",
     "text": [
      "There are 959 students in this dataset\n",
      "The average age of the students was 16.76\n",
      "There were 418 (43.59 %) male students and 541 (56.41 %) female students\n",
      "Median traveltime was 1.0\n",
      "Median studytime was 2.0\n",
      "Median past failures was 0.0\n",
      "There were 677 (70.59 %) students who came from families greater than 3 people.\n",
      "There were 755.0 (78.73 %) students with internet access at home.\n",
      "The average going out value was 3.19\n",
      "The average quality of family relationships value was 3.91\n",
      "The average current health status value was 3.55\n",
      "The average free time after school value was 3.20\n",
      "There were  114 (11.89 %) students with parents who are separated.\n",
      "There were  343.0 (35.77 %) students who are romantically involved.\n",
      "The average number of school absences was 4.66\n",
      "The median number of school absences was 2.0\n",
      "The total number of students who want a higher education was 871.0 (90.82 %)\n",
      "233 (24.30 %) students who came to this school was because it was close to home\n",
      "398 (41.50 %) students who came to this school was because of course preference\n",
      "226 (23.57 %) students who came to this school was because of its reputation\n",
      "102 (10.64 %) students who came to this school was for other reasons\n",
      "The median score for fathers schooling was 2.00\n",
      "The median score for mothers schooling was 3.00\n",
      "There were  107.0 (11.16 %) students with extra educational support.\n",
      "There were  588.0 (61.31 %) students with family educational support.\n",
      "There were  768.0 (80.08 %) students who attended nursery school.\n"
     ]
    }
   ],
   "source": [
    "##########################################\n",
    "### Looking at the predictor variables ###\n",
    "##########################################\n",
    "def predictors_summary(predictors):\n",
    "    '''This is to print the stats for subsets of above and below 3rd quartile'''\n",
    "    print 'There are', len(predictors), 'students in this dataset'\n",
    "    print 'The average age of the students was %.2f' % predictors.age.mean()\n",
    "    print 'There were', predictors.sex_M.sum(), '(%.2f' % float(predictors.sex_M.mean()*100.0),'%)' , 'male students and',predictors.sex_F.sum(), '(%.2f' % float(predictors.sex_F.mean()*100.0),'%)' , 'female students'\n",
    "    print 'Median traveltime was', predictors.traveltime.median()\n",
    "    print 'Median studytime was', predictors.studytime.median()\n",
    "    print 'Median past failures was', predictors.failures.median()\n",
    "    print 'There were', predictors.famsize_GT3.sum(), '(%.2f' % float(predictors.famsize_GT3.mean()*100.0),'%)', 'students who came from families greater than 3 people.'\n",
    "    print 'There were', predictors.internet.sum(),  '(%.2f' % float(predictors.internet.mean()*100.0),'%)', 'students with internet access at home.'\n",
    "    print 'The average going out value was %.2f' % predictors.goout.mean()\n",
    "    print 'The average quality of family relationships value was %.2f' % predictors.famrel.mean()\n",
    "    print 'The average current health status value was %.2f' % predictors.health.mean()\n",
    "    print 'The average free time after school value was %.2f' % predictors.freetime.mean()\n",
    "    print 'There were ', predictors.Pstatus_A.sum(),  '(%.2f' % float(predictors.Pstatus_A.mean()*100.0),'%)', 'students with parents who are separated.'\n",
    "    print 'There were ', predictors.romantic.sum(),  '(%.2f' % float(predictors.romantic.mean()*100.0),'%)', 'students who are romantically involved.'\n",
    "    print 'The average number of school absences was %.2f' % predictors.absences.mean()\n",
    "    print 'The median number of school absences was', predictors.absences.median()\n",
    "    print 'The total number of students who want a higher education was', predictors.higher.sum(), '(%.2f' % float(predictors.higher.mean()*100.0),'%)'\n",
    "    print predictors.reason_home.sum(), '(%.2f' % float(predictors.reason_home.mean()*100.0),'%)', 'students who came to this school was because it was close to home'\n",
    "    print predictors.reason_course.sum(), '(%.2f' % float(predictors.reason_course.mean()*100.0),'%)', 'students who came to this school was because of course preference'\n",
    "    print predictors.reason_reputation.sum(), '(%.2f' % float(predictors.reason_reputation.mean()*100.0),'%)', 'students who came to this school was because of its reputation'\n",
    "    print predictors.reason_other.sum(), '(%.2f' % float(predictors.reason_other.mean()*100.0),'%)', 'students who came to this school was for other reasons'\n",
    "    print 'The median score for fathers schooling was %.2f' % predictors.Fedu.median()\n",
    "    print 'The median score for mothers schooling was %.2f' % predictors.Medu.median()\n",
    "    print 'There were ', predictors.schoolsup.sum(),  '(%.2f' % float(predictors.schoolsup.mean()*100.0),'%)', 'students with extra educational support.'\n",
    "    print 'There were ', predictors.famsup.sum(),  '(%.2f' % float(predictors.famsup.mean()*100.0),'%)', 'students with family educational support.'\n",
    "    print 'There were ', predictors.nursery.sum(),  '(%.2f' % float(predictors.nursery.mean()*100.0),'%)', 'students who attended nursery school.'\n",
    "predictors_summary(predictors)"
   ]
  },
  {
   "cell_type": "code",
   "execution_count": 5,
   "metadata": {
    "collapsed": false
   },
   "outputs": [
    {
     "name": "stdout",
     "output_type": "stream",
     "text": [
      "There are 714 students in this dataset\n",
      "The average age of the students was 16.71\n",
      "There were 260 (36.41 %) male students and 454 (63.59 %) female students\n",
      "Median traveltime was 1.0\n",
      "Median studytime was 2.0\n",
      "Median past failures was 0.0\n",
      "There were 517 (72.41 %) students who came from families greater than 3 people.\n",
      "There were 553.0 (77.45 %) students with internet access at home.\n",
      "The average going out value was 2.99\n",
      "The average quality of family relationships value was 3.96\n",
      "The average current health status value was 3.48\n",
      "The average free time after school value was 3.10\n",
      "There were  88 (12.32 %) students with parents who are separated.\n",
      "There were  261.0 (36.55 %) students who are romantically involved.\n",
      "The average number of school absences was 4.15\n",
      "The median number of school absences was 2.0\n",
      "The total number of students who want a higher education was 659.0 (92.30 %)\n",
      "169 (23.67 %) students who came to this school was because it was close to home\n",
      "303 (42.44 %) students who came to this school was because of course preference\n",
      "182 (25.49 %) students who came to this school was because of its reputation\n",
      "60 (8.40 %) students who came to this school was for other reasons\n",
      "The median score for fathers schooling was 2.00\n",
      "The median score for mothers schooling was 2.00\n",
      "There were  83.0 (11.62 %) students with extra educational support.\n",
      "There were  445.0 (62.32 %) students with family educational support.\n",
      "There were  581.0 (81.37 %) students who attended nursery school.\n"
     ]
    }
   ],
   "source": [
    "##################################################\n",
    "### Looking at Students Below the 3rd Quartile ###\n",
    "##################################################\n",
    "below_q3 = data.loc[(data.alcohol_risk == 0.0)]\n",
    "predictors_summary(below_q3)"
   ]
  },
  {
   "cell_type": "code",
   "execution_count": 6,
   "metadata": {
    "collapsed": false,
    "scrolled": true
   },
   "outputs": [
    {
     "name": "stdout",
     "output_type": "stream",
     "text": [
      "There are 245 students in this dataset\n",
      "The average age of the students was 16.90\n",
      "There were 158 (64.49 %) male students and 87 (35.51 %) female students\n",
      "Median traveltime was 1.0\n",
      "Median studytime was 2.0\n",
      "Median past failures was 0.0\n",
      "There were 160 (65.31 %) students who came from families greater than 3 people.\n",
      "There were 202.0 (82.45 %) students with internet access at home.\n",
      "The average going out value was 3.76\n",
      "The average quality of family relationships value was 3.79\n",
      "The average current health status value was 3.73\n",
      "The average free time after school value was 3.50\n",
      "There were  26 (10.61 %) students with parents who are separated.\n",
      "There were  82.0 (33.47 %) students who are romantically involved.\n",
      "The average number of school absences was 6.16\n",
      "The median number of school absences was 4.0\n",
      "The total number of students who want a higher education was 212.0 (86.53 %)\n",
      "64 (26.12 %) students who came to this school was because it was close to home\n",
      "95 (38.78 %) students who came to this school was because of course preference\n",
      "44 (17.96 %) students who came to this school was because of its reputation\n",
      "42 (17.14 %) students who came to this school was for other reasons\n",
      "The median score for fathers schooling was 2.00\n",
      "The median score for mothers schooling was 3.00\n",
      "There were  24.0 (9.80 %) students with extra educational support.\n",
      "There were  143.0 (58.37 %) students with family educational support.\n",
      "There were  187.0 (76.33 %) students who attended nursery school.\n"
     ]
    }
   ],
   "source": [
    "########################################################\n",
    "### Looking at Students At or Above the 3rd Quartile ###\n",
    "########################################################\n",
    "above_q3 = data.loc[(data.alcohol_risk == 1.0)]\n",
    "predictors_summary(above_q3)"
   ]
  },
  {
   "cell_type": "markdown",
   "metadata": {},
   "source": [
    "## Step 4 - Splitting the data into training and testing sets \n",
    "Each of the three datasets need split into the training and testing datasets for our benchmark and improved models. The sets that will be split will be alcohol/predictors for the regression benchmark and then alcohol_risk/predictors for the logistic regression benchmark and the improved model.\n"
   ]
  },
  {
   "cell_type": "code",
   "execution_count": 8,
   "metadata": {
    "collapsed": false,
    "scrolled": true
   },
   "outputs": [
    {
     "name": "stdout",
     "output_type": "stream",
     "text": [
      "Splitting datasets succesful\n",
      "-------------------------------------------------------------------------\n",
      "Regression benchmark/improved models' training set has 767 samples.\n",
      "Regression benchmark/improved models' testing set has 192 samples.\n",
      "-------------------------------------------------------------------------\n",
      "Classification benchmark/improved models' training set has 767 samples.\n",
      "Classification benchmark/improved models' testing set has 192 samples.\n"
     ]
    }
   ],
   "source": [
    "############################################\n",
    "### Splitting the datasets appropriately ###\n",
    "############################################\n",
    "\n",
    "# Import necessary library\n",
    "from sklearn.cross_validation import train_test_split\n",
    "\n",
    "# For the regression models\n",
    "reg_X_train, reg_X_test, reg_y_train, reg_y_test = train_test_split(predictors, alcohol, test_size = 0.2, random_state = 77)\n",
    "\n",
    "# For the classification models\n",
    "clf_X_train, clf_X_test, clf_y_train, clf_y_test = train_test_split(predictors, alcohol_risk, test_size = 0.2, random_state = 77)\n",
    "\n",
    "\n",
    "print 'Splitting datasets succesful'\n",
    "print '-------------------------------------------------------------------------'\n",
    "print \"Regression benchmark/improved models' training set has {} samples.\".format(reg_X_train.shape[0])\n",
    "print \"Regression benchmark/improved models' testing set has {} samples.\".format(reg_X_test.shape[0])\n",
    "print '-------------------------------------------------------------------------'\n",
    "print \"Classification benchmark/improved models' training set has {} samples.\".format(clf_X_train.shape[0])\n",
    "print \"Classification benchmark/improved models' testing set has {} samples.\".format(clf_X_test.shape[0])"
   ]
  },
  {
   "cell_type": "markdown",
   "metadata": {},
   "source": [
    "## Step 5 - Training and testing benchmark models\n",
    "This step will be training and testing our simple benchmark models and evaluating the R-Squared measure for the linear regresion and the accuracy for the classification model. For purposes of the benchmark models, I am keeping all predictor variables while training."
   ]
  },
  {
   "cell_type": "code",
   "execution_count": 9,
   "metadata": {
    "collapsed": false,
    "scrolled": true
   },
   "outputs": [],
   "source": [
    "########################################################\n",
    "### Importing the libraries for each benchmark model ###\n",
    "########################################################\n",
    "from sklearn import linear_model\n",
    "from sklearn.metrics import r2_score\n",
    "from sklearn.metrics import accuracy_score\n",
    "from sklearn.metrics import precision_score\n",
    "from sklearn.metrics import recall_score\n",
    "from sklearn.metrics import f1_score\n",
    "from sklearn.metrics import confusion_matrix"
   ]
  },
  {
   "cell_type": "code",
   "execution_count": 10,
   "metadata": {
    "collapsed": true
   },
   "outputs": [],
   "source": [
    "#######################################\n",
    "### Creating the regression objects ###\n",
    "#######################################\n",
    "\n",
    "regr = linear_model.LinearRegression()\n",
    "lregr = linear_model.LogisticRegression()\n",
    "\n",
    "#####################################\n",
    "### Fitting the regression models ###\n",
    "#####################################\n",
    "\n",
    "Breg = regr.fit(reg_X_train, reg_y_train)\n",
    "Bclf = lregr.fit(clf_X_train, clf_y_train)"
   ]
  },
  {
   "cell_type": "code",
   "execution_count": 15,
   "metadata": {
    "collapsed": false
   },
   "outputs": [
    {
     "name": "stdout",
     "output_type": "stream",
     "text": [
      "R2 1: 0.504629275183\n",
      "R2 2: 0.504629275183\n",
      "R2 3: 0.504629275183\n",
      "Adj R2: 0.351946517534\n"
     ]
    }
   ],
   "source": [
    "###############################################\n",
    "### Creating an Adjusted R-Squared Function ###\n",
    "###############################################\n",
    "\n",
    "from sklearn.metrics import r2_score\n",
    "\n",
    "def Adj_R2(alg, X, y, type):\n",
    "    alg = alg.fit(X,y)\n",
    "    R2 = r2_score(y, alg.predict(X)) # R-Squared\n",
    "    N = float(int(len(y))) # Size of training dataset\n",
    "    p = float(int(len(X.columns))) # Number of predictors\n",
    "    Adj_R2 = 1-((1.-R2)*(N-1))/(N-p-1)\n",
    "    if type == 1:\n",
    "        return R2\n",
    "    elif type == 2:\n",
    "        return Adj_R2\n",
    "    else: \n",
    "        return 'Enter a valid type: 1 - R-Squared and 2 - Adjusted R-Squared'\n",
    "\n",
    "### Checking differences in scores ###    \n",
    "print 'R2 1:', Breg.score(reg_X_test, reg_y_test)\n",
    "print 'R2 2:', r2_score(reg_y_test, Breg.predict(reg_X_test))\n",
    "print 'R2 3:', Adj_R2(Breg, reg_X_test, reg_y_test, type = 1)\n",
    "print 'Adj R2:', Adj_R2(Breg, reg_X_test, reg_y_test, type = 2)\n"
   ]
  },
  {
   "cell_type": "code",
   "execution_count": 22,
   "metadata": {
    "collapsed": false
   },
   "outputs": [
    {
     "name": "stdout",
     "output_type": "stream",
     "text": [
      "******************************************* Regression Benchmark *******************************************\n",
      "The following measures are for the regression benchmark. The key measure here is the **Ajusted R-Squared.\n",
      "Mean-squared error for regression benchmark: 0.14\n",
      "R-Squared for regression benchmark: 0.50\n",
      "**Adjusted R-Squared for regression benchmark: 0.35\n",
      "\n",
      "***************************************** Classification Benchmark *****************************************\n",
      "The following measures are for the classifier benchmark.\n",
      "The key measures here are the **F1 Score, **precision and **recall.\n",
      "Accuracy score for classifier benchmark: 0.76\n",
      "**Recall score for classifier benchmark: 0.36\n",
      "**Precision score for classifier benchmark: 0.65\n",
      "**F1 score for benchmark 2: 0.47\n"
     ]
    }
   ],
   "source": [
    "#######################################################\n",
    "### Looking at model components on Testing Datasets ###\n",
    "#######################################################\n",
    "\n",
    "#*** Regression Metrics ***#\n",
    "\n",
    "B_MSE = np.mean((Breg.predict(reg_X_test) - reg_y_test) ** 2)\n",
    "\n",
    "# R-Squared\n",
    "B_R2 = Adj_R2(Breg, reg_X_test, reg_y_test, type = 1)\n",
    "\n",
    "# Adjusted R-Squared\n",
    "B_Adj_R2 = Adj_R2(Breg, reg_X_test, reg_y_test, type = 2)\n",
    "\n",
    "#*** Classification Metrics ***#\n",
    "B_acc = accuracy_score(clf_y_test, Bclf.predict(clf_X_test))\n",
    "\n",
    "# precision is # of true positives divided by the total number of true positives plus false positives\n",
    "B_precision = precision_score(clf_y_test, Bclf.predict(clf_X_test))\n",
    "# recall = # of true positives divided by the total number of true positives plus false negatives\n",
    "B_recall = recall_score(clf_y_test, Bclf.predict(clf_X_test))\n",
    "# F1 Score takes into account BOTH precision and recall\n",
    "B_F1_score = f1_score(clf_y_test, Bclf.predict(clf_X_test))\n",
    "\n",
    "    \n",
    "                                                         ##############\n",
    "############################################################ Output ############################################################\n",
    "                                                         ##############\n",
    "\n",
    "print \"******************************************* Regression Benchmark *******************************************\"\n",
    "print \"The following measures are for the regression benchmark. The key measure here is the **Ajusted R-Squared.\"\n",
    "print(\"Mean-squared error for regression benchmark: %.2f\" % B_MSE)\n",
    "print('R-Squared for regression benchmark: %.2f' % B_R2)\n",
    "\n",
    "print('**Adjusted R-Squared for regression benchmark: %.2f' % B_Adj_R2)\n",
    "\n",
    "print \"\"\n",
    "print \"***************************************** Classification Benchmark *****************************************\"\n",
    "print \"The following measures are for the classifier benchmark.\" \n",
    "print \"The key measures here are the **F1 Score, **precision and **recall.\"\n",
    "print (\"Accuracy score for classifier benchmark: %.2f\" % B_acc)\n",
    "print (\"**Recall score for classifier benchmark: %.2f\" % B_recall)\n",
    "print (\"**Precision score for classifier benchmark: %.2f\" % B_precision)\n",
    "print (\"**F1 score for benchmark 2: %.2f\" % B_F1_score)"
   ]
  },
  {
   "cell_type": "code",
   "execution_count": 20,
   "metadata": {
    "collapsed": false
   },
   "outputs": [
    {
     "name": "stdout",
     "output_type": "stream",
     "text": [
      "\n"
     ]
    },
    {
     "data": {
      "text/plain": [
       "'\\nprint\"\"\\nprint \\'There are \\',len(p_cols),\\'coefficients for regression benchmark 1 to examine...\\'\\n\\ni = 0\\nwhile i < 45:\\n    print p_cols[i],\":\",Breg_coef[i]\\n    i = i+1\\n\\nprint\"\"\\nprint \\'There are \\',len(p_cols),\\'coefficients for classification benchmark to examine...\\'    \\ni = 0\\nwhile i < 45:\\n    print p_cols[i],\":\",math.exp(Bclf_coef[0][i]) #Must take the exp() of the coefficients for interpretability\\n    i = i+1  \\n'"
      ]
     },
     "execution_count": 20,
     "metadata": {},
     "output_type": "execute_result"
    }
   ],
   "source": [
    "#################################################\n",
    "### Looking at the coefficients of each model ###\n",
    "#################################################\n",
    "import math \n",
    "print\"\"\n",
    "# The names of predictor columns\n",
    "p_cols = np.array(predictors.columns)\n",
    "# Getting the coefficients for each model\n",
    "Breg_coef = np.array(Breg.coef_)\n",
    "Bclf_coef = np.array(Bclf.coef_)\n",
    "'''\n",
    "print\"\"\n",
    "print 'There are ',len(p_cols),'coefficients for regression benchmark 1 to examine...'\n",
    "\n",
    "i = 0\n",
    "while i < 45:\n",
    "    print p_cols[i],\":\",Breg_coef[i]\n",
    "    i = i+1\n",
    "\n",
    "print\"\"\n",
    "print 'There are ',len(p_cols),'coefficients for classification benchmark to examine...'    \n",
    "i = 0\n",
    "while i < 45:\n",
    "    print p_cols[i],\":\",math.exp(Bclf_coef[0][i]) #Must take the exp() of the coefficients for interpretability\n",
    "    i = i+1  \n",
    "'''"
   ]
  },
  {
   "cell_type": "markdown",
   "metadata": {},
   "source": [
    "## Step 6 - Part 1 - Implementing Improvements on Each Model\n",
    "In this step, I will be experimenting with random forest and gradient boosting machines for both models for an attempt to make improvements."
   ]
  },
  {
   "cell_type": "code",
   "execution_count": 33,
   "metadata": {
    "collapsed": false
   },
   "outputs": [],
   "source": [
    "##################################\n",
    "### Libraries for Improvements ###\n",
    "##################################\n",
    "\n",
    "from sklearn import cross_validation, metrics\n",
    "from sklearn.grid_search import GridSearchCV\n",
    "from matplotlib.pylab import rcParams\n",
    "from sklearn.ensemble import RandomForestRegressor\n",
    "from sklearn.ensemble import RandomForestClassifier\n",
    "from sklearn.ensemble import GradientBoostingRegressor\n",
    "from sklearn.ensemble import GradientBoostingClassifier\n",
    "rcParams['figure.figsize'] = 12, 4"
   ]
  },
  {
   "cell_type": "code",
   "execution_count": 24,
   "metadata": {
    "collapsed": false
   },
   "outputs": [],
   "source": [
    "# Functions inspired by:\n",
    "# https://www.analyticsvidhya.com/blog/2016/02/complete-guide-parameter-tuning-gradient-boosting-gbm-python/\n",
    "\n",
    "\n",
    "####################################\n",
    "### Classification Model Fitting ###\n",
    "####################################\n",
    "\n",
    "def clf_modelfit(alg, X, y, predictors, X_test, y_test,\n",
    "                 performCV=True, printFeatureImportance=True, cv_folds=5):\n",
    "    #Fit the algorithm on the data\n",
    "    alg.fit(X, y)\n",
    "        \n",
    "    #Predict training set:\n",
    "    dtrain_predictions = alg.predict(X)\n",
    "    dtrain_predprob = alg.predict_proba(X)[:,1]\n",
    "    #Predict testing set:\n",
    "    dtest_predictions = alg.predict(X_test)\n",
    "    dtest_predprob = alg.predict_proba(X_test)[:,1] \n",
    "    \n",
    "    #Perform cross-validation:\n",
    "    if performCV:\n",
    "        cv_score = cross_validation.cross_val_score(alg, X, y, cv=cv_folds, scoring='roc_auc')\n",
    "    \n",
    "    #Print model report:\n",
    "    print \"**Training Metrics**\"\n",
    "    print \"Accuracy : %.4g\" % metrics.accuracy_score(y.values, dtrain_predictions)\n",
    "    print \"**Precision : %.4g\" % metrics.precision_score(y.values, dtrain_predictions)\n",
    "    print \"**Recall : %.4g\" % metrics.recall_score(y.values, dtrain_predictions)\n",
    "    print \"**F1 Score : %.4g\" % metrics.f1_score(y.values, dtrain_predictions)\n",
    "    if performCV:\n",
    "        print \"CV Score : Mean - %.7g | Std - %.7g | Min - %.7g | Max - %.7g\" % (np.mean(cv_score),np.std(cv_score),np.min(cv_score),np.max(cv_score))\n",
    "    print \"\"        \n",
    "    print \"**Testing Metrics**\"\n",
    "    print \"Accuracy : %.4g\" % metrics.accuracy_score(y_test.values, dtest_predictions), \" (Benchmark: %.4g)\" % B_acc\n",
    "    print \"**Precision : %.4g\" % metrics.precision_score(y_test.values, dtest_predictions), \" (Benchmark: %.4g)\" % B_precision\n",
    "    print \"**Recall : %.4g\" % metrics.recall_score(y_test.values, dtest_predictions), \" (Benchmark: %.4g)\" % B_recall\n",
    "    print \"**F1 Score : %.4g\" % metrics.f1_score(y_test.values, dtest_predictions), \" (Benchmark: %.4g)\" % B_F1_score\n",
    "    \n",
    "    #Print Feature Importance:\n",
    "    if printFeatureImportance:\n",
    "        feat_imp = pd.Series(alg.feature_importances_, predictors).sort_values(ascending=False)\n",
    "        feat_imp.plot(kind='bar', title='Feature Importances', color = 'c')\n",
    "        plt.ylabel('Feature Importance Score', color = 'g')\n",
    "        plt.title('Feature Importances for Classification', color = 'g', fontsize = 16, fontweight = 777)\n",
    "\n",
    "\n",
    "################################\n",
    "### Regression Model Fitting ###\n",
    "################################\n",
    "        \n",
    "def reg_modelfit(alg, X, y, predictors, X_test, y_test,\n",
    "                 performCV=True, printFeatureImportance=True, cv_folds=5):\n",
    "    #Fit the algorithm on the data\n",
    "    alg.fit(X, y)\n",
    "        \n",
    "    #Perform cross-validation:\n",
    "    if performCV:\n",
    "        cv_score = cross_validation.cross_val_score(alg, X, y, cv=cv_folds)\n",
    "    \n",
    "    MSE_train = np.mean((alg.predict(X) - y) ** 2)\n",
    "    R2_train = Adj_R2(alg, X, y, type = 1)\n",
    "    Adj_R2_train = Adj_R2(alg, X, y, type = 2)\n",
    "    \n",
    "    MSE_test = np.mean((alg.predict(X_test) - y_test) ** 2)\n",
    "    R2_test = Adj_R2(alg, X_test, y_test, type = 1)\n",
    "    Adj_R2_test = Adj_R2(alg, X_test, y_test, type = 2)\n",
    "    \n",
    "    #Print model report:\n",
    "    print \"**Training Metrics**\"\n",
    "    print \"Mean Square Error : %.4g \" % MSE_train\n",
    "    print \"R Squared : %.4g\" % R2_train\n",
    "    print \"**Adjusted R Squared : %.4g\" % Adj_R2_train \n",
    "    #if performCV:\n",
    "    print \"CV Score : Mean - %.7g | Std - %.7g | Min - %.7g | Max - %.7g\" % (np.mean(cv_score),np.std(cv_score),np.min(cv_score),np.max(cv_score))\n",
    "    print \"\"        \n",
    "    print \"**Testing Metrics**\"\n",
    "    print \"Mean Square Error : %.4g\" % MSE_test, \" (Benchmark: %.4g)\" % B_MSE \n",
    "    print \"R Squared : %.4g\" % R2_test, \" (Benchmark: %.4g)\" % B_R2\n",
    "    print \"**Adjusted R Squared : %.4g\" % Adj_R2_test, \" (Benchmark: %.4g)\" % B_Adj_R2\n",
    "    \n",
    "    #Print Feature Importance:\n",
    "    if printFeatureImportance:\n",
    "        feat_imp = pd.Series(alg.feature_importances_, predictors).sort_values(ascending=False)\n",
    "        feat_imp.plot(kind='bar', title='Feature Importances', color = 'c')\n",
    "        plt.ylabel('Feature Importance Score', color = 'g')\n",
    "        plt.title('Feature Importances for Regression', color = 'g', fontsize = 16, fontweight = 777)"
   ]
  },
  {
   "cell_type": "code",
   "execution_count": 25,
   "metadata": {
    "collapsed": false,
    "scrolled": true
   },
   "outputs": [
    {
     "name": "stdout",
     "output_type": "stream",
     "text": [
      "*************************************************** PRE-TUNED MODEL ***************************************************\n",
      "**Training Metrics**\n",
      "Accuracy : 0.914\n",
      "**Precision : 0.9429\n",
      "**Recall : 0.6947\n",
      "**F1 Score : 0.8\n",
      "CV Score : Mean - 0.8103685 | Std - 0.01048608 | Min - 0.7990018 | Max - 0.826087\n",
      "\n",
      "**Testing Metrics**\n",
      "Accuracy : 0.7969  (Benchmark: 0.7604)\n",
      "**Precision : 0.7222  (Benchmark: 0.6452)\n",
      "**Recall : 0.4727  (Benchmark: 0.3636)\n",
      "**F1 Score : 0.5714  (Benchmark: 0.4651)\n"
     ]
    },
    {
     "data": {
      "image/png": "[encoded data removed]",
      "text/plain": [
       "<matplotlib.figure.Figure at 0x9f4ad30>"
      ]
     },
     "metadata": {},
     "output_type": "display_data"
    }
   ],
   "source": [
    "############################################\n",
    "### Assigning Classifiers and Regressors ###\n",
    "############################################\n",
    "\n",
    "gbm_clf = GradientBoostingClassifier(random_state=17)\n",
    "rf_clf = RandomForestClassifier(random_state=17)\n",
    "gbm_reg = GradientBoostingRegressor(random_state=17)\n",
    "rf_reg = RandomForestRegressor(random_state=17)\n",
    "\n",
    "###################################################\n",
    "### Baseline Improvement Models (Before Tuning) ###\n",
    "###################################################\n",
    "print('*************************************************** PRE-TUNED MODEL ***************************************************')\n",
    "clf_modelfit(gbm_clf, clf_X_train, clf_y_train, p_cols, clf_X_test, clf_y_test)\n",
    "#clf_modelfit(rf_clf, clf_X_train, clf_y_train, p_cols, clf_X_test, clf_y_test)\n",
    "#reg_modelfit(gbm_reg, reg_X_train, reg_y_train, p_cols, reg_X_test, reg_y_test)\n",
    "#reg_modelfit(rf_reg, reg_X_train, reg_y_train, p_cols, reg_X_test, reg_y_test)"
   ]
  },
  {
   "cell_type": "markdown",
   "metadata": {},
   "source": [
    "## Step 6 - Part 2 - Tuning\n",
    "In this step, I will tuning the parameters using grid search for each problem type."
   ]
  },
  {
   "cell_type": "code",
   "execution_count": 26,
   "metadata": {
    "collapsed": false,
    "scrolled": false
   },
   "outputs": [
    {
     "name": "stdout",
     "output_type": "stream",
     "text": [
      "*************************************************** TUNED MODEL ***************************************************\n",
      "**Training Metrics**\n",
      "Accuracy : 1\n",
      "**Precision : 1\n",
      "**Recall : 1\n",
      "**F1 Score : 1\n",
      "CV Score : Mean - 0.8672067 | Std - 0.01355755 | Min - 0.8414188 | Max - 0.8811252\n",
      "\n",
      "**Testing Metrics**\n",
      "Accuracy : 0.8802  (Benchmark: 0.7604)\n",
      "**Precision : 0.8478  (Benchmark: 0.6452)\n",
      "**Recall : 0.7091  (Benchmark: 0.3636)\n",
      "**F1 Score : 0.7723  (Benchmark: 0.4651)\n"
     ]
    },
    {
     "data": {
      "image/png": "[encoded data removed]",
      "text/plain": [
       "<matplotlib.figure.Figure at 0xe59c358>"
      ]
     },
     "metadata": {},
     "output_type": "display_data"
    }
   ],
   "source": [
    "##########################################################\n",
    "### Tuning Parameters for Gradient Boosting Classifier ###\n",
    "##########################################################\n",
    "                #######################\n",
    "                # Scoring on F1 Score #\n",
    "                #######################        \n",
    "\n",
    "gbm_clf = GradientBoostingClassifier(random_state=17, \n",
    "                                    n_estimators=280,\n",
    "                                    min_samples_split = 2,\n",
    "                                    min_samples_leaf = 3,\n",
    "                                    max_depth = 6,\n",
    "                                    max_features = 12,\n",
    "                                    subsample = 0.8,\n",
    "                                    learning_rate = 0.1\n",
    "                                    )\n",
    "\n",
    "########################\n",
    "### Parameter Trials ###\n",
    "########################\n",
    "#param_test = {'n_estimators':range(20,551,10)} #280\n",
    "#param_test = {'max_depth':range(2,15,1), 'min_samples_split':range(2,15,1)} #6 , 2\n",
    "#param_test = {'max_features':range(2,15,1)} #12\n",
    "#param_test = {'min_samples_leaf':range(2,10,1)} #3\n",
    "#param_test = {'subsample':[0.6,0.65, 0.7, 0.75, 0.8, 0.85, 0.9, 0.95]} #0.8\n",
    "\n",
    "#gbm_clf_gs = GridSearchCV(estimator = gbm_clf, param_grid = param_test, scoring='f1',n_jobs=4,iid=False, cv=5)\n",
    "\n",
    "#gbm_clf_gs.fit(clf_X_train, clf_y_train)\n",
    "#gbm_clf_gs.grid_scores_, gbm_clf_gs.best_params_, gbm_clf_gs.best_score_\n",
    "\n",
    "###############################\n",
    "### Testing the Tuned Model ###\n",
    "###############################\n",
    "print('*************************************************** TUNED MODEL ***************************************************')\n",
    "clf_modelfit(gbm_clf, clf_X_train, clf_y_train, p_cols, clf_X_test, clf_y_test)"
   ]
  },
  {
   "cell_type": "code",
   "execution_count": 27,
   "metadata": {
    "collapsed": false,
    "scrolled": false
   },
   "outputs": [
    {
     "name": "stdout",
     "output_type": "stream",
     "text": [
      "*************************************************** TUNED MODEL ***************************************************\n",
      "**Training Metrics**\n",
      "Accuracy : 0.9674\n",
      "**Precision : 1\n",
      "**Recall : 0.8684\n",
      "**F1 Score : 0.9296\n",
      "CV Score : Mean - 0.8433567 | Std - 0.0115538 | Min - 0.8315789 | Max - 0.8629291\n",
      "\n",
      "**Testing Metrics**\n",
      "Accuracy : 0.7917  (Benchmark: 0.7604)\n",
      "**Precision : 0.6923  (Benchmark: 0.6452)\n",
      "**Recall : 0.4909  (Benchmark: 0.3636)\n",
      "**F1 Score : 0.5745  (Benchmark: 0.4651)\n"
     ]
    },
    {
     "data": {
      "image/png": "[encoded data removed]",
      "text/plain": [
       "<matplotlib.figure.Figure at 0xc9e8278>"
      ]
     },
     "metadata": {},
     "output_type": "display_data"
    }
   ],
   "source": [
    "######################################################\n",
    "### Tuning Parameters for Random Forest Classifier ###\n",
    "######################################################\n",
    "                #######################\n",
    "                # Scoring on F1 Score #\n",
    "                #######################        \n",
    "            \n",
    "rf_clf = RandomForestClassifier(random_state=17, \n",
    "                                n_estimators=80,\n",
    "                                max_features = 11,\n",
    "                                max_depth = 12,\n",
    "                                min_samples_split = 5,\n",
    "                                min_samples_leaf = 2,\n",
    "                                n_jobs = 1,\n",
    "                                oob_score = True\n",
    "                               )\n",
    "\n",
    "########################\n",
    "### Parameter Trials ###\n",
    "########################\n",
    "\n",
    "#param_test = {'n_estimators':range(10,551,10)} #80\n",
    "#param_test = {'max_depth':range(2,15,1), 'min_samples_split':range(2,15,1)} #12 , 5\n",
    "#param_test = {'max_features':range(2,15,1)} #11\n",
    "#param_test = {'min_samples_leaf':range(2,15,1)} # 2\n",
    "#param_test = {'n_jobs':range(1,5,1)} \n",
    "\n",
    "#rf_clf_gs = GridSearchCV(estimator = rf_clf, param_grid = param_test, scoring='f1',n_jobs=4,iid=False, cv=5)\n",
    "#rf_clf_gs.fit(clf_X_train, clf_y_train)\n",
    "#rf_clf_gs.grid_scores_, rf_clf_gs.best_params_, rf_clf_gs.best_score_\n",
    "###############################\n",
    "### Testing the Tuned Model ###\n",
    "###############################\n",
    "print('*************************************************** TUNED MODEL ***************************************************')\n",
    "clf_modelfit(rf_clf, clf_X_train, clf_y_train, p_cols, clf_X_test, clf_y_test)"
   ]
  },
  {
   "cell_type": "code",
   "execution_count": 28,
   "metadata": {
    "collapsed": false
   },
   "outputs": [
    {
     "name": "stdout",
     "output_type": "stream",
     "text": [
      "*************************************************** TUNED MODEL ***************************************************\n",
      "**Training Metrics**\n",
      "Mean Square Error : 0.06642 \n",
      "R Squared : 0.6817\n",
      "**Adjusted R Squared : 0.6618\n",
      "CV Score : Mean - 0.3122315 | Std - 0.07487997 | Min - 0.1882947 | Max - 0.3913413\n",
      "\n",
      "**Testing Metrics**\n",
      "Mean Square Error : 0.1479  (Benchmark: 0.1377)\n",
      "R Squared : 0.9202  (Benchmark: 0.5046)\n",
      "**Adjusted R Squared : 0.8956  (Benchmark: 0.3519)\n"
     ]
    },
    {
     "data": {
      "image/png": "[encoded data removed]",
      "text/plain": [
       "<matplotlib.figure.Figure at 0xcb9c160>"
      ]
     },
     "metadata": {},
     "output_type": "display_data"
    }
   ],
   "source": [
    "#########################################################\n",
    "### Tuning Parameters for Gradient Boosting Regressor ###\n",
    "#########################################################\n",
    "            #################################\n",
    "                # Scoring on R Squared #\n",
    "            #################################\n",
    "            # Note: Using R-Squared will be fine to tune the model as the number of predictors is not changing \n",
    "            #       Thus adjusted R-Squared is not necessary\n",
    "\n",
    "gbm_reg = GradientBoostingRegressor(random_state=17, \n",
    "                                    n_estimators=120,\n",
    "                                    max_depth = 5,\n",
    "                                    min_samples_split = 14,\n",
    "                                    min_samples_leaf = 3,\n",
    "                                    subsample  = 0.8,\n",
    "                                    max_features = 13,\n",
    "                                    max_leaf_nodes = 7,\n",
    "                                    learning_rate = 0.1\n",
    "                                   )\n",
    "\n",
    "########################\n",
    "### Parameter Trials ###\n",
    "########################\n",
    "\n",
    "#param_test = {'n_estimators':range(20,551,10)} #120\n",
    "#param_test = {'max_depth':range(2,21,1), 'min_samples_split':range(2,21,1)} # 5, 14\n",
    "#param_test = {'max_features':range(2,15,1)} # 13\n",
    "#param_test = {'min_samples_leaf':range(2,10,1)} # 3\n",
    "#param_test = {'subsample':[0.6,0.65, 0.7, 0.75, 0.8, 0.85, 0.9, 0.95]} # 0.8\n",
    "\n",
    "#gbm_reg_gs = GridSearchCV(estimator = gbm_reg, param_grid = param_test, scoring= 'r2',n_jobs=4,iid=False, cv=5)\n",
    "\n",
    "#gbm_reg_gs.fit(reg_X_train, reg_y_train)\n",
    "#gbm_reg_gs.grid_scores_, gbm_reg_gs.best_params_, gbm_reg_gs.best_score_\n",
    "\n",
    "###############################\n",
    "### Testing the Tuned Model ###\n",
    "###############################\n",
    "print('*************************************************** TUNED MODEL ***************************************************')\n",
    "reg_modelfit(gbm_reg, reg_X_train, reg_y_train, p_cols, reg_X_test, reg_y_test)"
   ]
  },
  {
   "cell_type": "code",
   "execution_count": 29,
   "metadata": {
    "collapsed": false
   },
   "outputs": [
    {
     "name": "stdout",
     "output_type": "stream",
     "text": [
      "*************************************************** TUNED MODEL ***************************************************\n",
      "**Training Metrics**\n",
      "Mean Square Error : 0.03675 \n",
      "R Squared : 0.8239\n",
      "**Adjusted R Squared : 0.8129\n",
      "CV Score : Mean - 0.3433714 | Std - 0.04584345 | Min - 0.2625783 | Max - 0.3888814\n",
      "\n",
      "**Testing Metrics**\n",
      "Mean Square Error : 0.1472  (Benchmark: 0.1377)\n",
      "R Squared : 0.81  (Benchmark: 0.5046)\n",
      "**Adjusted R Squared : 0.7515  (Benchmark: 0.3519)\n"
     ]
    },
    {
     "data": {
      "image/png": "[encoded data removed]",
      "text/plain": [
       "<matplotlib.figure.Figure at 0xe4fc860>"
      ]
     },
     "metadata": {},
     "output_type": "display_data"
    }
   ],
   "source": [
    "#####################################################\n",
    "### Tuning Parameters for Random Forest Regressor ###\n",
    "#####################################################\n",
    "            #################################\n",
    "                # Scoring on R Squared #\n",
    "            #################################\n",
    "            # Note: Using R-Squared will be fine to tune the model as the number of predictors is not changing \n",
    "            #       Thus adjusted R-Squared is not necessary\n",
    "            \n",
    "rf_reg = RandomForestRegressor(random_state=17, \n",
    "                                n_estimators=500,\n",
    "                                max_features = 14,\n",
    "                                max_depth = 13,\n",
    "                                min_samples_split = 2,\n",
    "                                min_samples_leaf = 2,\n",
    "                                n_jobs = 1,\n",
    "                                oob_score = True\n",
    "                               )\n",
    "\n",
    "########################\n",
    "### Parameter Trials ###\n",
    "########################\n",
    "\n",
    "#param_test = {'n_estimators':range(10,551,10)} #500\n",
    "#param_test = {'max_depth':range(2,15,1), 'min_samples_split':range(2,15,1)} #13 , 2\n",
    "#param_test = {'max_features':range(2,21,1)} #14\n",
    "#param_test = {'min_samples_leaf':range(2,15,1)} # 2\n",
    "#param_test = {'n_jobs':range(1,5,1)} \n",
    "\n",
    "#rf_reg_gs = GridSearchCV(estimator = rf_reg, param_grid = param_test, scoring='r2',n_jobs=4,iid=False, cv=5)\n",
    "#rf_reg_gs.fit(reg_X_train, reg_y_train)\n",
    "#rf_reg_gs.grid_scores_, rf_reg_gs.best_params_, rf_reg_gs.best_score_\n",
    "###############################\n",
    "### Testing the Tuned Model ###\n",
    "###############################\n",
    "print('*************************************************** TUNED MODEL ***************************************************')\n",
    "reg_modelfit(rf_reg, reg_X_train, reg_y_train, p_cols, reg_X_test, reg_y_test)"
   ]
  },
  {
   "cell_type": "markdown",
   "metadata": {},
   "source": [
    "## Step 8 - Deciding on Which Technique to Use\n",
    "In this step I will be comparing the results of my regression path to the results of my classification path using recall."
   ]
  },
  {
   "cell_type": "code",
   "execution_count": 51,
   "metadata": {
    "collapsed": false
   },
   "outputs": [
    {
     "name": "stdout",
     "output_type": "stream",
     "text": [
      "Recall: 0.7091\n",
      "Precision: 0.8478\n",
      "F1 Score: 0.7723\n"
     ]
    }
   ],
   "source": [
    "#########################################\n",
    "### Testing Recall via Classification ###\n",
    "#########################################\n",
    "# Recall - Of everyone who should have been identified, how many were actually identified?\n",
    "\n",
    "print 'Recall: %.4g' % metrics.recall_score(clf_y_test, gbm_clf.predict(clf_X_test))\n",
    "print 'Precision: %.4g' % metrics.precision_score(clf_y_test, gbm_clf.predict(clf_X_test))\n",
    "print 'F1 Score: %.4g' % metrics.f1_score(clf_y_test, gbm_clf.predict(clf_X_test))"
   ]
  },
  {
   "cell_type": "code",
   "execution_count": 52,
   "metadata": {
    "collapsed": false
   },
   "outputs": [
    {
     "name": "stdout",
     "output_type": "stream",
     "text": [
      "Recall: 0.8727\n",
      "Precision: 0.96\n",
      "F1 Score: 0.9143\n"
     ]
    }
   ],
   "source": [
    "#####################################\n",
    "### Testing Recall via Regression ###\n",
    "#####################################\n",
    "# Recall - Of everyone who should have been identified, how many were actually identified?\n",
    "#gbm_reg.predict(reg_X_test)\n",
    "\n",
    "#np.percentile(alc_vars.alcohol, 75)\n",
    "\n",
    "def reg_to_clf(predictions):\n",
    "    '''This function converts the regression prediction to the binary variable at or above 3rd quartile'''\n",
    "    reg_clf = []\n",
    "    for pred in predictions:\n",
    "        if pred >= np.percentile(alc_vars.alcohol, 75):\n",
    "            pred = 1.\n",
    "        else:\n",
    "            pred = 0.\n",
    "        reg_clf.append(pred)\n",
    "    return reg_clf\n",
    "\n",
    "print 'Recall: %.4g' % metrics.recall_score(clf_y_test, reg_to_clf(gbm_reg.predict(reg_X_test)))\n",
    "print 'Precision: %.4g' % metrics.precision_score(clf_y_test, reg_to_clf(gbm_reg.predict(reg_X_test)))\n",
    "print 'F1 Score: %.4g' % metrics.f1_score(clf_y_test, reg_to_clf(gbm_reg.predict(reg_X_test)))"
   ]
  }
 ],
 "metadata": {
  "kernelspec": {
   "display_name": "Python 2",
   "language": "python",
   "name": "python2"
  },
  "language_info": {
   "codemirror_mode": {
    "name": "ipython",
    "version": 2
   },
   "file_extension": ".py",
   "mimetype": "text/x-python",
   "name": "python",
   "nbconvert_exporter": "python",
   "pygments_lexer": "ipython2",
   "version": "2.7.13"
  }
 },
 "nbformat": 4,
 "nbformat_minor": 0
}
